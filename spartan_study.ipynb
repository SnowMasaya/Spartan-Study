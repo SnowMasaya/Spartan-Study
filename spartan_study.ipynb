{
 "cells": [
  {
   "cell_type": "markdown",
   "metadata": {},
   "source": [
    "# Introduction\n",
    "[Spartan](https://www.cs.nyu.edu/web/Research/Theses/power_russell.pdf) とはArray式言語の並列処理用のフレームワークです。\n",
    "\n",
    "* 今回はPythonの高速化のために使用してみました。\n",
    "\n",
    "![](./pictures/Screen Shot 2015-11-16 at 10.34.13.jpg)\n",
    "\n",
    "* 今回はシングルPCで動作を確認します。\n",
    "\n",
    "Spartanの簡単な構成を説明しておきます。\n",
    "\n",
    "* Array-language frontend\n",
    " * NmyPy array言語をユーザーは使用可能。\n",
    "* Intermediate representation\n",
    " * prefix scans, slicing and filteringなどのarray操作が可能\n",
    "* Optimization\n",
    " * 代数的なルールの書き換えを行い、必要のない一時的な要素を排除する。\n",
    "* Distributed array backend\n",
    " * 多次元配列での計算\n",
    "\n",
    "以下では、このSpartanを利用し実際に動作させる所まで解説します。\n",
    "\n",
    "1. [ライブラリ導入](#ライブラリ導入) \n",
    "2. [初期設定](#初期設定) \n",
    "3. [サーバー設定](#サーバー設定)\n",
    "4. [線形回帰処理](#線形回帰処理) \n",
    "\n",
    "日本語の解説ページは下記。\n",
    "\n",
    "[Python　分散処理　spartan](http://qiita.com/GushiSnow/private/05f3c5632cbed6e57900)\n",
    "\n"
   ]
  },
  {
   "cell_type": "markdown",
   "metadata": {},
   "source": [
    "## 1.ライブラリ導入"
   ]
  },
  {
   "cell_type": "markdown",
   "metadata": {},
   "source": [
    "Spartanのライブラリを導入します。\n",
    "\n"
   ]
  },
  {
   "cell_type": "code",
   "execution_count": 4,
   "metadata": {
    "collapsed": false
   },
   "outputs": [],
   "source": [
    "import spartan as sp\n"
   ]
  },
  {
   "cell_type": "markdown",
   "metadata": {},
   "source": [
    "## 2.初期設定"
   ]
  },
  {
   "cell_type": "markdown",
   "metadata": {},
   "source": [
    "下記を設定しています。\n",
    "* Spartanの初期化：sp.initialize()\n",
    "* 次元数の設定：N_DIM = 10\n",
    "* サンプル数の設定：N_EXAMPLES = 1000 * 1000\n",
    "* 重み更新度合い：EPSILON \n",
    "* xを10次元のデータで生成\n",
    "* yをサンプル数生成\n"
   ]
  },
  {
   "cell_type": "code",
   "execution_count": 5,
   "metadata": {
    "collapsed": false
   },
   "outputs": [],
   "source": [
    "sp.initialize()\n",
    "\n",
    "N_DIM = 10\n",
    "N_EXAMPLES = 1000 * 1000\n",
    "EPSILON = 1e-6\n",
    "\n",
    "x = 100 * sp.ones((N_EXAMPLES, N_DIM)) + sp.rand(N_EXAMPLES, N_DIM)\n",
    "y = sp.ones((N_EXAMPLES, 1))"
   ]
  },
  {
   "cell_type": "markdown",
   "metadata": {},
   "source": [
    "## 3.#サーバー設定"
   ]
  },
  {
   "cell_type": "markdown",
   "metadata": {},
   "source": [
    "1つのサーバーに対して10次元の重みを処理するように設定\n",
    "\n",
    "* 初期値は乱数で設定。\n"
   ]
  },
  {
   "cell_type": "code",
   "execution_count": 6,
   "metadata": {
    "collapsed": false
   },
   "outputs": [],
   "source": [
    "# put weights on one server\n",
    "w = sp.rand(N_DIM, 1)"
   ]
  },
  {
   "cell_type": "markdown",
   "metadata": {},
   "source": [
    "## 4.線形回帰処理"
   ]
  },
  {
   "cell_type": "markdown",
   "metadata": {},
   "source": [
    "単純な線形回帰の処理を行なっています。\n",
    "\n",
    "* 入力xと重みwによって値yを出力します。\n",
    "* 値の差分を取得します。\n",
    "* 差分を重み更新の値に変換\n",
    "* 重みを更新します。更新率をかけることとサンプル数で割ることによって更新しすぎないように調整しています。\n",
    "\n"
   ]
  },
  {
   "cell_type": "code",
   "execution_count": 5,
   "metadata": {
    "collapsed": false,
    "scrolled": true
   },
   "outputs": [],
   "source": [
    "for i in range(50):\n",
    "    yp = sp.dot(x, w)\n",
    "    diff = x * (yp - y)\n",
    "    grad = sp.sum(diff, axis=0).reshape((N_DIM, 1))\n",
    "    w = w - (grad / N_EXAMPLES * EPSILON)\n",
    "    print grad.sum().glom()"
   ]
  },
  {
   "cell_type": "code",
   "execution_count": null,
   "metadata": {
    "collapsed": true
   },
   "outputs": [],
   "source": []
  }
 ],
 "metadata": {
  "kernelspec": {
   "display_name": "Python 2",
   "language": "python",
   "name": "python2"
  },
  "language_info": {
   "codemirror_mode": {
    "name": "ipython",
    "version": 2
   },
   "file_extension": ".py",
   "mimetype": "text/x-python",
   "name": "python",
   "nbconvert_exporter": "python",
   "pygments_lexer": "ipython2",
   "version": "2.7"
  }
 },
 "nbformat": 4,
 "nbformat_minor": 0
}
